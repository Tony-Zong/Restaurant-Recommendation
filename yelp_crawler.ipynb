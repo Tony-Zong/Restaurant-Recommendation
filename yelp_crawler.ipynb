{
 "cells": [
  {
   "cell_type": "code",
   "execution_count": 19,
   "source": [
    "from bs4 import BeautifulSoup\n",
    "import csv\n",
    "import requests"
   ],
   "outputs": [],
   "metadata": {}
  },
  {
   "cell_type": "code",
   "execution_count": 20,
   "source": [
    "# Produce list of Yelp search urls for each zipcode\n",
    "\n",
    "zipcodes = []\n",
    "with open('cook_zips.csv', newline = '') as f:\n",
    "    for row in csv.reader(f):\n",
    "        zipcodes.append(row[0])\n",
    "\n",
    "base_search_url = 'https://www.yelp.com/search?cflt=restaurants&find_loc=Chicago%2C+IL+'\n",
    "\n",
    "search_urls = []\n",
    "for zipcode in zipcodes:\n",
    "    search_urls.append(base_search_url + zipcode)"
   ],
   "outputs": [],
   "metadata": {}
  },
  {
   "cell_type": "code",
   "execution_count": 21,
   "source": [
    "#\n",
    "# https://www.yelp.com/search?cflt=restaurants&find_loc=Chicago%2C+IL+60615&start=10\n",
    "restaurant_urls = []\n",
    "for search_url in search_urls:\n",
    "    start_page = 0\n",
    "    reached_last_page = False\n",
    "    while(not reached_last_page):\n",
    "        reached_last_page = True\n",
    "        req = requests.get(search_url + '&start=' + str(start_page))\n",
    "        soup = BeautifulSoup(req.content, 'html.parser')\n",
    "        a_tags = soup.find_all('a', href = True, recursive = True)\n",
    "        for a_tag in a_tags:\n",
    "            if 'biz' in a_tag['href']:\n",
    "                reached_last_page = False\n",
    "                restaurant_urls.append('yelp.com' + a_tag['href'])\n",
    "        start_page += 10"
   ],
   "outputs": [],
   "metadata": {}
  },
  {
   "cell_type": "code",
   "execution_count": 22,
   "source": [
    "# Write to csv\n",
    "set_urls = set(restaurant_urls)\n",
    "with open('restaurant_urls.csv', 'w') as file: \n",
    "    write = csv.writer(file) \n",
    "    for url in set_urls:\n",
    "        write.writerow([restaurant_url]) "
   ],
   "outputs": [],
   "metadata": {}
  },
  {
   "cell_type": "code",
   "execution_count": 23,
   "source": [
    "print(set_urls)"
   ],
   "outputs": [
    {
     "output_type": "stream",
     "name": "stdout",
     "text": [
      "set()\n"
     ]
    }
   ],
   "metadata": {}
  },
  {
   "cell_type": "code",
   "execution_count": null,
   "source": [],
   "outputs": [],
   "metadata": {}
  }
 ],
 "metadata": {
  "interpreter": {
   "hash": "916dbcbb3f70747c44a77c7bcd40155683ae19c65e1c03b4aa3499c5328201f1"
  },
  "kernelspec": {
   "display_name": "Python 3",
   "language": "python",
   "name": "python3"
  },
  "orig_nbformat": 4,
  "language_info": {
   "name": "python",
   "version": "3.8.5",
   "mimetype": "text/x-python",
   "codemirror_mode": {
    "name": "ipython",
    "version": 3
   },
   "pygments_lexer": "ipython3",
   "nbconvert_exporter": "python",
   "file_extension": ".py"
  }
 },
 "nbformat": 4,
 "nbformat_minor": 2
}